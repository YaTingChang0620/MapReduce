{
 "cells": [
  {
   "cell_type": "markdown",
   "metadata": {},
   "source": [
    "# KickStarter Project Analysis"
   ]
  },
  {
   "cell_type": "code",
   "execution_count": 72,
   "metadata": {},
   "outputs": [],
   "source": [
    "import pyspark\n",
    "from pyspark.sql import SparkSession\n",
    "from itertools import islice\n",
    "from datetime import date\n",
    "from pyspark.sql.types import StringType\n",
    "from pyspark.sql.types import IntegerType\n",
    "from pyspark.sql.types import DateType\n",
    "from pyspark.sql.types import StructField \n",
    "from pyspark.sql.types import StructType\n",
    "from pyspark.sql.types import DoubleType\n",
    "from pyspark.sql.functions import col\n",
    "from pyspark.sql.functions import to_date\n",
    "from pyspark.sql import Row\n",
    "from pyspark.sql.functions import max as max_\n",
    "from pyspark.sql.functions import sum as sum_\n",
    "from pyspark.sql.functions import desc\n",
    "from pyspark.sql.functions import lit\n",
    "from pyspark.sql.functions import when\n",
    "from pyspark.sql.functions import round as round_\n",
    "from pyspark.sql.window import Window\n",
    "from pyspark.sql.functions import dense_rank\n",
    "from pyspark.sql.functions import countDistinct\n",
    "import math"
   ]
  },
  {
   "cell_type": "code",
   "execution_count": 2,
   "metadata": {},
   "outputs": [],
   "source": [
    "sc = pyspark.SparkContext()"
   ]
  },
  {
   "cell_type": "code",
   "execution_count": 3,
   "metadata": {},
   "outputs": [],
   "source": [
    "spark = SparkSession(sc)"
   ]
  },
  {
   "cell_type": "code",
   "execution_count": 4,
   "metadata": {},
   "outputs": [],
   "source": [
    "# source: https://www.kaggle.com/kemical/kickstarter-projects/data#\n",
    "ks = sc.textFile('input/ks-projects-2018.csv')"
   ]
  },
  {
   "cell_type": "code",
   "execution_count": 5,
   "metadata": {},
   "outputs": [],
   "source": [
    "col_names = ks.take(1)"
   ]
  },
  {
   "cell_type": "code",
   "execution_count": 6,
   "metadata": {},
   "outputs": [],
   "source": [
    "col_names = [c for c in col_names[0].split(\",\")]"
   ]
  },
  {
   "cell_type": "code",
   "execution_count": 7,
   "metadata": {},
   "outputs": [
    {
     "name": "stdout",
     "output_type": "stream",
     "text": [
      "['ID', 'name', 'category', 'main_category', 'currency', 'deadline', 'goal', 'launched', 'pledged', 'state', 'backers', 'country', 'usd pledged', 'usd_pledged_real', 'usd_goal_real']\n",
      "15\n"
     ]
    }
   ],
   "source": [
    "print(col_names)\n",
    "print(len(col_names))"
   ]
  },
  {
   "cell_type": "code",
   "execution_count": 8,
   "metadata": {},
   "outputs": [],
   "source": [
    "# skip the first row\n",
    "ks = ks.mapPartitionsWithIndex(\n",
    "    lambda idx, it: islice(it, 1, None) if idx == 0 else it)"
   ]
  },
  {
   "cell_type": "code",
   "execution_count": 9,
   "metadata": {},
   "outputs": [],
   "source": [
    "# filter out row with more than 15 columns\n",
    "parts = ks.map(lambda l: l.split(\",\"))\\\n",
    "          .filter(lambda row: len(row) <= 15)\\\n",
    "          .map(lambda p: tuple(i for i in p))"
   ]
  },
  {
   "cell_type": "code",
   "execution_count": 10,
   "metadata": {},
   "outputs": [
    {
     "data": {
      "text/plain": [
       "[('1000002330',\n",
       "  'The Songs of Adelaide & Abullah',\n",
       "  'Poetry',\n",
       "  'Publishing',\n",
       "  'GBP',\n",
       "  '2015-10-09',\n",
       "  '1000.00',\n",
       "  '2015-08-11 12:12:28',\n",
       "  '0.00',\n",
       "  'failed',\n",
       "  '0',\n",
       "  'GB',\n",
       "  '0.00',\n",
       "  '0.00',\n",
       "  '1533.95'),\n",
       " ('1000003930',\n",
       "  'Greeting From Earth: ZGAC Arts Capsule For ET',\n",
       "  'Narrative Film',\n",
       "  'Film & Video',\n",
       "  'USD',\n",
       "  '2017-11-01',\n",
       "  '30000.00',\n",
       "  '2017-09-02 04:43:57',\n",
       "  '2421.00',\n",
       "  'failed',\n",
       "  '15',\n",
       "  'US',\n",
       "  '100.00',\n",
       "  '2421.00',\n",
       "  '30000.00')]"
      ]
     },
     "execution_count": 10,
     "metadata": {},
     "output_type": "execute_result"
    }
   ],
   "source": [
    "parts.take(2)"
   ]
  },
  {
   "cell_type": "markdown",
   "metadata": {},
   "source": [
    "### Specifying schema"
   ]
  },
  {
   "cell_type": "code",
   "execution_count": 11,
   "metadata": {},
   "outputs": [],
   "source": [
    "fields = [StructField(name, StringType(), True) for name in col_names]"
   ]
  },
  {
   "cell_type": "code",
   "execution_count": 12,
   "metadata": {},
   "outputs": [],
   "source": [
    "schema = StructType(fields)"
   ]
  },
  {
   "cell_type": "code",
   "execution_count": 13,
   "metadata": {},
   "outputs": [],
   "source": [
    "projects_df = spark.createDataFrame(parts, schema)"
   ]
  },
  {
   "cell_type": "code",
   "execution_count": 14,
   "metadata": {},
   "outputs": [
    {
     "name": "stdout",
     "output_type": "stream",
     "text": [
      "root\n",
      " |-- ID: string (nullable = true)\n",
      " |-- name: string (nullable = true)\n",
      " |-- category: string (nullable = true)\n",
      " |-- main_category: string (nullable = true)\n",
      " |-- currency: string (nullable = true)\n",
      " |-- deadline: string (nullable = true)\n",
      " |-- goal: string (nullable = true)\n",
      " |-- launched: string (nullable = true)\n",
      " |-- pledged: string (nullable = true)\n",
      " |-- state: string (nullable = true)\n",
      " |-- backers: string (nullable = true)\n",
      " |-- country: string (nullable = true)\n",
      " |-- usd pledged: string (nullable = true)\n",
      " |-- usd_pledged_real: string (nullable = true)\n",
      " |-- usd_goal_real: string (nullable = true)\n",
      "\n"
     ]
    }
   ],
   "source": [
    "projects_df.printSchema()"
   ]
  },
  {
   "cell_type": "code",
   "execution_count": 15,
   "metadata": {},
   "outputs": [],
   "source": [
    "projects_df = projects_df.withColumn(\"deadline_date\", col(\"deadline\").cast(DateType()))"
   ]
  },
  {
   "cell_type": "code",
   "execution_count": 16,
   "metadata": {},
   "outputs": [],
   "source": [
    "projects_df = projects_df.withColumn(\"launched_date\", col(\"launched\").cast(DateType()))"
   ]
  },
  {
   "cell_type": "code",
   "execution_count": 17,
   "metadata": {},
   "outputs": [],
   "source": [
    "projects_df = projects_df.withColumn(\"goal_int\", col(\"goal\").cast(DoubleType()))\n",
    "projects_df = projects_df.withColumn(\"pledged_int\", col(\"pledged\").cast(DoubleType()))\n",
    "projects_df = projects_df.withColumn(\"backers_int\", col(\"backers\").cast(IntegerType()))\n",
    "projects_df = projects_df.withColumn(\"usd_pledged_int\", col(\"usd pledged\").cast(DoubleType()))\n",
    "projects_df = projects_df.withColumn(\"usd_pledged_real_int\", col(\"usd_pledged_real\").cast(DoubleType()))\n",
    "projects_df = projects_df.withColumn(\"usd_goal_real_int\", col(\"usd_goal_real\").cast(DoubleType()))"
   ]
  },
  {
   "cell_type": "code",
   "execution_count": 18,
   "metadata": {},
   "outputs": [],
   "source": [
    "projects_df = projects_df.drop(\"deadline\", \"launched\", \"goal\", \"pledged\", \"backers\", \"usd pledged\", \"usd_pledged_real\", \"usd_goal_real\")"
   ]
  },
  {
   "cell_type": "code",
   "execution_count": 19,
   "metadata": {},
   "outputs": [
    {
     "name": "stdout",
     "output_type": "stream",
     "text": [
      "root\n",
      " |-- ID: string (nullable = true)\n",
      " |-- name: string (nullable = true)\n",
      " |-- category: string (nullable = true)\n",
      " |-- main_category: string (nullable = true)\n",
      " |-- currency: string (nullable = true)\n",
      " |-- state: string (nullable = true)\n",
      " |-- country: string (nullable = true)\n",
      " |-- deadline_date: date (nullable = true)\n",
      " |-- launched_date: date (nullable = true)\n",
      " |-- goal_int: double (nullable = true)\n",
      " |-- pledged_int: double (nullable = true)\n",
      " |-- backers_int: integer (nullable = true)\n",
      " |-- usd_pledged_int: double (nullable = true)\n",
      " |-- usd_pledged_real_int: double (nullable = true)\n",
      " |-- usd_goal_real_int: double (nullable = true)\n",
      "\n"
     ]
    }
   ],
   "source": [
    "projects_df.printSchema()"
   ]
  },
  {
   "cell_type": "markdown",
   "metadata": {},
   "source": [
    "## Initial Exploration"
   ]
  },
  {
   "cell_type": "code",
   "execution_count": 87,
   "metadata": {},
   "outputs": [],
   "source": [
    "projects_df = projects_df.repartition(2)"
   ]
  },
  {
   "cell_type": "code",
   "execution_count": 88,
   "metadata": {},
   "outputs": [
    {
     "data": {
      "text/plain": [
       "2"
      ]
     },
     "execution_count": 88,
     "metadata": {},
     "output_type": "execute_result"
    }
   ],
   "source": [
    "projects_df.rdd.getNumPartitions()"
   ]
  },
  {
   "cell_type": "code",
   "execution_count": 82,
   "metadata": {},
   "outputs": [
    {
     "data": {
      "text/plain": [
       "DataFrame[ID: string, name: string, category: string, main_category: string, currency: string, state: string, country: string, deadline_date: date, launched_date: date, goal_int: double, pledged_int: double, backers_int: int, usd_pledged_int: double, usd_pledged_real_int: double, usd_goal_real_int: double]"
      ]
     },
     "execution_count": 82,
     "metadata": {},
     "output_type": "execute_result"
    }
   ],
   "source": [
    "# persist the dataframe cause we need query against this table several times\n",
    "projects_df.unpersist()"
   ]
  },
  {
   "cell_type": "markdown",
   "metadata": {},
   "source": [
    "#### Latest Launched Date"
   ]
  },
  {
   "cell_type": "code",
   "execution_count": 20,
   "metadata": {},
   "outputs": [
    {
     "data": {
      "text/plain": [
       "[Row(max(launched_date)=datetime.date(2018, 1, 2))]"
      ]
     },
     "execution_count": 20,
     "metadata": {},
     "output_type": "execute_result"
    }
   ],
   "source": [
    "projects_df.groupBy().agg(max_('launched_date')).collect()"
   ]
  },
  {
   "cell_type": "markdown",
   "metadata": {},
   "source": [
    "#### Distribution of Project State"
   ]
  },
  {
   "cell_type": "code",
   "execution_count": 21,
   "metadata": {},
   "outputs": [
    {
     "name": "stdout",
     "output_type": "stream",
     "text": [
      "+----------+------+\n",
      "|     state| count|\n",
      "+----------+------+\n",
      "|    failed|185167|\n",
      "|successful|124482|\n",
      "|  canceled| 36272|\n",
      "|      live|  2619|\n",
      "| suspended|  1723|\n",
      "+----------+------+\n",
      "\n"
     ]
    }
   ],
   "source": [
    "projects_df.groupBy('state').count().sort(desc(\"count\")).show()"
   ]
  },
  {
   "cell_type": "markdown",
   "metadata": {},
   "source": [
    "#### Top Countries that Launched Projects"
   ]
  },
  {
   "cell_type": "code",
   "execution_count": 23,
   "metadata": {},
   "outputs": [
    {
     "name": "stdout",
     "output_type": "stream",
     "text": [
      "+-------+------+\n",
      "|country| count|\n",
      "+-------+------+\n",
      "|     US|273134|\n",
      "|     GB| 31799|\n",
      "|     CA| 13881|\n",
      "|     AU|  7367|\n",
      "|     DE|  3925|\n",
      "|     IT|  2639|\n",
      "|     FR|  2632|\n",
      "|     NL|  2615|\n",
      "|     ES|  2113|\n",
      "|     SE|  1674|\n",
      "+-------+------+\n",
      "only showing top 10 rows\n",
      "\n"
     ]
    }
   ],
   "source": [
    "projects_df.groupBy('country').count().sort(desc(\"count\")).show(10)"
   ]
  },
  {
   "cell_type": "markdown",
   "metadata": {},
   "source": [
    "#### Success Rate for Countires"
   ]
  },
  {
   "cell_type": "code",
   "execution_count": 31,
   "metadata": {},
   "outputs": [
    {
     "name": "stdout",
     "output_type": "stream",
     "text": [
      "+-------+------+------+----------+\n",
      "|country|  succ|   ttl|percentage|\n",
      "+-------+------+------+----------+\n",
      "|     HK|   194|   439|      0.44|\n",
      "|     US|101475|243856|      0.42|\n",
      "|     GB| 11400| 27826|      0.41|\n",
      "|     SG|   168|   430|      0.39|\n",
      "|     DK|   345|   880|      0.39|\n",
      "|     NZ|   427|  1199|      0.36|\n",
      "|     FR|   808|  2261|      0.36|\n",
      "|     SE|   484|  1436|      0.34|\n",
      "|     LU|    18|    54|      0.33|\n",
      "|     CA|  3880| 11641|      0.33|\n",
      "|     JP|     7|    22|      0.32|\n",
      "|     AU|  1882|  6222|       0.3|\n",
      "|     IE|   181|   629|      0.29|\n",
      "|     BE|   140|   485|      0.29|\n",
      "|     CH|   171|   600|      0.29|\n",
      "|     MX|   372|  1316|      0.28|\n",
      "|     DE|   874|  3243|      0.27|\n",
      "|     NO|   147|   542|      0.27|\n",
      "|     ES|   459|  1744|      0.26|\n",
      "|     NL|   552|  2201|      0.25|\n",
      "+-------+------+------+----------+\n",
      "only showing top 20 rows\n",
      "\n"
     ]
    }
   ],
   "source": [
    "projects_df.filter((col('state') == 'failed') | (col('state') == 'successful')) \\\n",
    "           .withColumn('dummy', lit(1)) \\\n",
    "           .withColumn('succ_boolean', when(col('state') == 'successful',1).otherwise(0))\\\n",
    "           .groupBy('country').agg(sum_('succ_boolean').alias('succ'), sum_('dummy').alias('ttl')) \\\n",
    "           .withColumn('percentage', round_(col('succ')/col('ttl'),2))\\\n",
    "           .sort(desc('percentage'))\\\n",
    "           .show()"
   ]
  },
  {
   "cell_type": "markdown",
   "metadata": {},
   "source": [
    "#### Top Successful Main Categories"
   ]
  },
  {
   "cell_type": "code",
   "execution_count": 63,
   "metadata": {},
   "outputs": [
    {
     "name": "stdout",
     "output_type": "stream",
     "text": [
      "+-------------+-----+\n",
      "|main_category|count|\n",
      "+-------------+-----+\n",
      "|        Music|22588|\n",
      "| Film & Video|22436|\n",
      "|        Games|11771|\n",
      "|   Publishing|11242|\n",
      "|          Art|10724|\n",
      "|       Design| 9592|\n",
      "|      Theater| 6018|\n",
      "|   Technology| 5814|\n",
      "|       Comics| 5521|\n",
      "|         Food| 5496|\n",
      "+-------------+-----+\n",
      "only showing top 10 rows\n",
      "\n"
     ]
    }
   ],
   "source": [
    "projects_df.filter(col('state') == 'successful')\\\n",
    "           .groupBy('main_category') \\\n",
    "           .count().sort(desc('count')) \\\n",
    "           .select('main_category','count').show(10)"
   ]
  },
  {
   "cell_type": "markdown",
   "metadata": {},
   "source": [
    "#### Success Rate for Each Sub Category within the Main Category"
   ]
  },
  {
   "cell_type": "code",
   "execution_count": 69,
   "metadata": {},
   "outputs": [
    {
     "name": "stdout",
     "output_type": "stream",
     "text": [
      "+-------------+----------------+-----+--------------------+\n",
      "|main_category|        category|count|          percentage|\n",
      "+-------------+----------------+-----+--------------------+\n",
      "|   Publishing|Children's Books| 2160| 0.19213663049279486|\n",
      "|   Publishing|         Fiction| 2004| 0.17826009606831525|\n",
      "|   Publishing|      Nonfiction| 2001| 0.17799323963707525|\n",
      "|   Publishing|      Publishing| 1506| 0.13396192848247643|\n",
      "|   Publishing|       Art Books| 1250| 0.11119017968333036|\n",
      "|   Publishing|     Periodicals|  473| 0.04207436399217221|\n",
      "|   Publishing|          Poetry|  444| 0.03949475182351895|\n",
      "|   Publishing|Radio & Podcasts|  370| 0.03291229318626579|\n",
      "|   Publishing|     Anthologies|  206|0.018324141611812846|\n",
      "|   Publishing|        Academic|  178|0.015833481586906246|\n",
      "+-------------+----------------+-----+--------------------+\n",
      "only showing top 10 rows\n",
      "\n"
     ]
    }
   ],
   "source": [
    "#.withColumn('percentage', col('sum(succ_boolean)')/col('sum(dummy)').over(Window.partitionBy(projects_df['country']))).show()\n",
    "projects_df.filter(col('state') == 'successful')\\\n",
    "           .groupBy('main_category', 'category')\\\n",
    "           .count()\\\n",
    "           .withColumn('percentage', col('count')/sum_('count').over(Window.partitionBy(projects_df['main_category'])))\\\n",
    "           .filter(col('main_category') == 'Publishing')\\\n",
    "           .sort(desc('percentage')).show(10)"
   ]
  },
  {
   "cell_type": "code",
   "execution_count": 86,
   "metadata": {},
   "outputs": [
    {
     "name": "stdout",
     "output_type": "stream",
     "text": [
      "+-------------+----------------+-----+-------------------+----+\n",
      "|main_category|        category|count|         percentage|rank|\n",
      "+-------------+----------------+-----+-------------------+----+\n",
      "|         Food|            Food| 2969| 0.5402110625909753|   1|\n",
      "|         Food|          Drinks|  537|0.09770742358078603|   2|\n",
      "|          Art|             Art| 3159| 0.2945729205520328|   1|\n",
      "|          Art|    Illustration| 1535|0.14313688922044013|   2|\n",
      "|      Fashion|         Fashion| 2031|0.39261550357626135|   1|\n",
      "|      Fashion|         Apparel| 1308| 0.2528513435144017|   2|\n",
      "| Film & Video|          Shorts| 6374|0.28409698698520236|   1|\n",
      "| Film & Video|     Documentary| 5557| 0.2476822963095026|   2|\n",
      "|   Publishing|Children's Books| 2160|0.19213663049279486|   1|\n",
      "|   Publishing|         Fiction| 2004|0.17826009606831525|   2|\n",
      "|       Crafts|          Crafts| 1050| 0.5497382198952879|   1|\n",
      "|       Crafts|     Woodworking|  242|0.12670157068062826|   2|\n",
      "|       Comics|          Comics| 2365|0.42836442673428726|   1|\n",
      "|       Comics|     Comic Books| 1550| 0.2807462416228944|   2|\n",
      "|        Games|  Tabletop Games| 7376| 0.6266247557556707|   1|\n",
      "|        Games|     Video Games| 2253|0.19140259960920908|   2|\n",
      "|       Design|  Product Design| 7172| 0.7477064220183486|   1|\n",
      "|       Design|          Design| 1299| 0.1354253544620517|   2|\n",
      "|        Music|           Music| 5940| 0.2629714892863467|   1|\n",
      "|        Music|      Indie Rock| 3374|0.14937134761820436|   2|\n",
      "|  Photography|     Photography| 1736| 0.5652881797460111|   1|\n",
      "|  Photography|      Photobooks|  592| 0.1927710843373494|   2|\n",
      "|   Technology|      Technology| 1210| 0.2081183350533196|   1|\n",
      "|   Technology|        Hardware| 1080|0.18575851393188855|   2|\n",
      "|   Journalism|      Journalism|  442|0.46723044397463004|   1|\n",
      "|   Journalism|             Web|  170|0.17970401691331925|   2|\n",
      "|      Theater|         Theater| 4059| 0.6744765702891325|   1|\n",
      "|      Theater|           Plays|  741|0.12313060817547358|   2|\n",
      "|        Dance|           Dance| 1435|  0.658256880733945|   1|\n",
      "|        Dance|    Performances|  582|0.26697247706422017|   2|\n",
      "+-------------+----------------+-----+-------------------+----+\n",
      "\n"
     ]
    }
   ],
   "source": [
    "projects_df.filter(col('state') == 'successful')\\\n",
    "           .groupBy('main_category', 'category')\\\n",
    "           .count()\\\n",
    "           .withColumn('percentage', col('count')/sum_('count').over(Window.partitionBy(projects_df['main_category'])))\\\n",
    "           .withColumn('rank', dense_rank().over(Window.partitionBy('main_category').orderBy(desc('percentage'))))\\\n",
    "           .filter(col('rank') <= 2)\\\n",
    "           .show(30)"
   ]
  },
  {
   "cell_type": "code",
   "execution_count": null,
   "metadata": {},
   "outputs": [],
   "source": []
  }
 ],
 "metadata": {
  "kernelspec": {
   "display_name": "Python 3",
   "language": "python",
   "name": "python3"
  },
  "language_info": {
   "codemirror_mode": {
    "name": "ipython",
    "version": 3
   },
   "file_extension": ".py",
   "mimetype": "text/x-python",
   "name": "python",
   "nbconvert_exporter": "python",
   "pygments_lexer": "ipython3",
   "version": "3.7.3"
  }
 },
 "nbformat": 4,
 "nbformat_minor": 2
}
